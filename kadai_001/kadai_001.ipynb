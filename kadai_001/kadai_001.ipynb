{
  "nbformat": 4,
  "nbformat_minor": 0,
  "metadata": {
    "colab": {
      "provenance": []
    },
    "kernelspec": {
      "name": "python3",
      "display_name": "Python 3"
    },
    "language_info": {
      "name": "python"
    }
  },
  "cells": [
    {
      "cell_type": "code",
      "execution_count": 35,
      "metadata": {
        "colab": {
          "base_uri": "https://localhost:8080/"
        },
        "id": "b4jvFUMRjnmS",
        "outputId": "37cecdde-f0f0-4c5c-dd1d-714a37aebd31"
      },
      "outputs": [
        {
          "output_type": "stream",
          "name": "stdout",
          "text": [
            "保存完了: 請求書.xlsx\n"
          ]
        }
      ],
      "source": [
        "# -*- coding: utf-8 -*-\n",
        "# 必要に応じて: pip install openpyxl>=3.1.2,<4\n",
        "\n",
        "from datetime import datetime\n",
        "from openpyxl import Workbook\n",
        "\n",
        "def make_invoice(path=\"請求書.xlsx\"):\n",
        "    wb = Workbook()\n",
        "    ws = wb.active\n",
        "    ws.title = \"請求書\"\n",
        "\n",
        "    # ===== 基本情報 =====\n",
        "    ws[\"B2\"] = \"請求書\"\n",
        "    ws[\"B4\"] = \"株式会社ABC\"\n",
        "    ws[\"B5\"] = \"〒101-0022 東京都千代田区神田練塀町300\"\n",
        "    ws[\"B6\"] = \"TEL:03-1234-5678 FAX:03-1234-5678\"\n",
        "    ws[\"B7\"] = \"担当者名:鈴木一郎 様\"\n",
        "\n",
        "    # ===== No.／日付 =====\n",
        "    ws[\"F4\"] = \"No.\"\n",
        "    ws[\"G4\"] = \"0001\"\n",
        "    ws[\"F5\"] = \"日付\"\n",
        "    ws[\"G5\"] = datetime.now()\n",
        "    ws[\"G5\"].number_format = \"yyyy/mm/dd\"\n",
        "\n",
        "    # ===== 明細ヘッダ =====\n",
        "    ws[\"B10\"] = \"商品名\"\n",
        "    ws[\"C10\"] = \"数量\"\n",
        "    ws[\"D10\"] = \"単価\"\n",
        "    ws[\"E10\"] = \"金額\"\n",
        "\n",
        "    # ===== 明細行 =====\n",
        "    ws[\"B11\"] = \"商品A\"\n",
        "    ws[\"C11\"] = 2\n",
        "    ws[\"D11\"] = 10000\n",
        "    ws[\"E11\"] = 20000\n",
        "\n",
        "    ws[\"B12\"] = \"商品B\"\n",
        "    ws[\"C12\"] = 1\n",
        "    ws[\"D12\"] = 15000\n",
        "    ws[\"E12\"] = 15000\n",
        "\n",
        "    # ===== 小計・合計行 =====\n",
        "    ws[\"E13\"] = 35000\n",
        "\n",
        "    ws[\"B15\"] = \"合計\"\n",
        "    ws[\"E15\"] = 35000\n",
        "    ws[\"B16\"] = \"消費税\"\n",
        "    ws[\"E16\"] = 3500\n",
        "    ws[\"B17\"] = \"税込合計\"\n",
        "    ws[\"E17\"] = 38500\n",
        "\n",
        "    wb.save(path)\n",
        "    print(f\"保存完了: {path}\")\n",
        "\n",
        "if __name__ == \"__main__\":\n",
        "    make_invoice(\"請求書.xlsx\")\n"
      ]
    },
    {
      "cell_type": "code",
      "source": [
        "files.download(\"請求書.xlsx\")\n",
        "\n"
      ],
      "metadata": {
        "colab": {
          "base_uri": "https://localhost:8080/",
          "height": 17
        },
        "id": "0IKdFbUhpAfG",
        "outputId": "0013f3d9-f8fc-4dd6-b00b-11a384524f8a"
      },
      "execution_count": 37,
      "outputs": [
        {
          "output_type": "display_data",
          "data": {
            "text/plain": [
              "<IPython.core.display.Javascript object>"
            ],
            "application/javascript": [
              "\n",
              "    async function download(id, filename, size) {\n",
              "      if (!google.colab.kernel.accessAllowed) {\n",
              "        return;\n",
              "      }\n",
              "      const div = document.createElement('div');\n",
              "      const label = document.createElement('label');\n",
              "      label.textContent = `Downloading \"${filename}\": `;\n",
              "      div.appendChild(label);\n",
              "      const progress = document.createElement('progress');\n",
              "      progress.max = size;\n",
              "      div.appendChild(progress);\n",
              "      document.body.appendChild(div);\n",
              "\n",
              "      const buffers = [];\n",
              "      let downloaded = 0;\n",
              "\n",
              "      const channel = await google.colab.kernel.comms.open(id);\n",
              "      // Send a message to notify the kernel that we're ready.\n",
              "      channel.send({})\n",
              "\n",
              "      for await (const message of channel.messages) {\n",
              "        // Send a message to notify the kernel that we're ready.\n",
              "        channel.send({})\n",
              "        if (message.buffers) {\n",
              "          for (const buffer of message.buffers) {\n",
              "            buffers.push(buffer);\n",
              "            downloaded += buffer.byteLength;\n",
              "            progress.value = downloaded;\n",
              "          }\n",
              "        }\n",
              "      }\n",
              "      const blob = new Blob(buffers, {type: 'application/binary'});\n",
              "      const a = document.createElement('a');\n",
              "      a.href = window.URL.createObjectURL(blob);\n",
              "      a.download = filename;\n",
              "      div.appendChild(a);\n",
              "      a.click();\n",
              "      div.remove();\n",
              "    }\n",
              "  "
            ]
          },
          "metadata": {}
        },
        {
          "output_type": "display_data",
          "data": {
            "text/plain": [
              "<IPython.core.display.Javascript object>"
            ],
            "application/javascript": [
              "download(\"download_6c10cf77-6be3-4cee-9129-11486dce5faf\", \"\\u8acb\\u6c42\\u66f8.xlsx\", 5337)"
            ]
          },
          "metadata": {}
        }
      ]
    }
  ]
}