{
  "nbformat": 4,
  "nbformat_minor": 0,
  "metadata": {
    "colab": {
      "provenance": []
    },
    "kernelspec": {
      "name": "python3",
      "display_name": "Python 3"
    },
    "language_info": {
      "name": "python"
    }
  },
  "cells": [
    {
      "cell_type": "code",
      "source": [
        "!pip install numpy==1.24.4 pandas==1.5.3 openpyxl==3.0.10"
      ],
      "metadata": {
        "colab": {
          "base_uri": "https://localhost:8080/"
        },
        "id": "u1A9RPdmJGGd",
        "outputId": "c4b7e192-f0f2-4d33-cb58-275de33f7f01"
      },
      "execution_count": 36,
      "outputs": [
        {
          "output_type": "stream",
          "name": "stdout",
          "text": [
            "Collecting numpy==1.24.4\n",
            "  Using cached numpy-1.24.4.tar.gz (10.9 MB)\n",
            "  Installing build dependencies ... \u001b[?25l\u001b[?25hdone\n",
            "  \u001b[1;31merror\u001b[0m: \u001b[1msubprocess-exited-with-error\u001b[0m\n",
            "  \n",
            "  \u001b[31m×\u001b[0m \u001b[32mGetting requirements to build wheel\u001b[0m did not run successfully.\n",
            "  \u001b[31m│\u001b[0m exit code: \u001b[1;36m1\u001b[0m\n",
            "  \u001b[31m╰─>\u001b[0m See above for output.\n",
            "  \n",
            "  \u001b[1;35mnote\u001b[0m: This error originates from a subprocess, and is likely not a problem with pip.\n",
            "  Getting requirements to build wheel ... \u001b[?25l\u001b[?25herror\n",
            "\u001b[1;31merror\u001b[0m: \u001b[1msubprocess-exited-with-error\u001b[0m\n",
            "\n",
            "\u001b[31m×\u001b[0m \u001b[32mGetting requirements to build wheel\u001b[0m did not run successfully.\n",
            "\u001b[31m│\u001b[0m exit code: \u001b[1;36m1\u001b[0m\n",
            "\u001b[31m╰─>\u001b[0m See above for output.\n",
            "\n",
            "\u001b[1;35mnote\u001b[0m: This error originates from a subprocess, and is likely not a problem with pip.\n"
          ]
        }
      ]
    },
    {
      "cell_type": "code",
      "source": [
        "# 必要なら最初にインストール\n",
        "# %pip install pandas openpyxl\n",
        "\n",
        "import pandas as pd\n",
        "from openpyxl import load_workbook\n",
        "from openpyxl.styles import PatternFill\n",
        "\n",
        "# Google Colabで使う場合のみ有効化\n",
        "from google.colab import files\n",
        "\n",
        "# ① ファイル読み込み＆連結\n",
        "file_2022 = \"2022_年間売上表.xlsx\"\n",
        "file_2023 = \"2023_年間売上表.xlsx\"\n",
        "\n",
        "df22 = pd.read_excel(file_2022, sheet_name=\"Sheet1\")\n",
        "df23 = pd.read_excel(file_2023, sheet_name=\"Sheet1\")\n",
        "df_all = pd.concat([df22, df23], ignore_index=True)\n",
        "\n",
        "# ② 売上年が無ければ「日付」から抽出\n",
        "if \"売上年\" not in df_all.columns:\n",
        "    if \"日付\" not in df_all.columns:\n",
        "        raise ValueError(\"『売上年』列も『日付』列も見つかりません。\")\n",
        "    df_all[\"売上年\"] = pd.to_datetime(df_all[\"日付\"]).dt.year\n",
        "\n",
        "# ③ 金額列を柔軟に判定（全角・半角・スペース含め対応）\n",
        "normalized_cols = {col.replace(\"（\", \"(\").replace(\"）\", \")\").replace(\" \", \"\"): col for col in df_all.columns}\n",
        "target_candidates = [\"金額(千円)\", \"金額\", \"売上\", \"売上金額\", \"売上額\"]\n",
        "\n",
        "value_col = None\n",
        "for cand in target_candidates:\n",
        "    if cand in normalized_cols:\n",
        "        value_col = normalized_cols[cand]\n",
        "        break\n",
        "\n",
        "if value_col is None:\n",
        "    print(\"検出された列一覧:\", list(df_all.columns))\n",
        "    raise ValueError(\"金額列が見つかりません。列名を確認してください。\")\n",
        "\n",
        "# ④ 商品×売上年で集計\n",
        "agg = (\n",
        "    df_all.groupby([\"商品\", \"売上年\"], as_index=False)[value_col]\n",
        "          .sum()\n",
        "          .rename(columns={value_col: \"金額(千円)\"})\n",
        ")\n",
        "\n",
        "# ⑤ Excel出力\n",
        "out_path = \"売上集計表.xlsx\"\n",
        "with pd.ExcelWriter(out_path, engine=\"openpyxl\") as writer:\n",
        "    agg.to_excel(writer, index=False, sheet_name=\"Sheet1\")\n",
        "\n",
        "# ⑥ ヘッダー行を薄いグレー(#F2F2F2)\n",
        "wb = load_workbook(out_path)\n",
        "ws = wb[\"Sheet1\"]\n",
        "header_fill = PatternFill(\"solid\", start_color=\"F2F2F2\", end_color=\"F2F2F2\")\n",
        "\n",
        "for cell in ws[1]:\n",
        "    cell.fill = header_fill\n",
        "\n",
        "wb.save(out_path)\n",
        "print(\"書き出し完了:\", out_path)\n",
        "\n",
        "# ⑦ Google Colab でダウンロード\n",
        "try:\n",
        "    files.download(out_path)\n",
        "except Exception:\n",
        "    print(\"ローカル環境では自動ダウンロードはスキップされます。ファイルは現在のフォルダ内に保存済みです。\")\n"
      ],
      "metadata": {
        "colab": {
          "base_uri": "https://localhost:8080/",
          "height": 34
        },
        "id": "XKk1uoAFAPbc",
        "outputId": "d11809c5-5d01-40d2-ab72-a3e7f409c46a"
      },
      "execution_count": 38,
      "outputs": [
        {
          "output_type": "stream",
          "name": "stdout",
          "text": [
            "書き出し完了: 売上集計表.xlsx\n"
          ]
        },
        {
          "output_type": "display_data",
          "data": {
            "text/plain": [
              "<IPython.core.display.Javascript object>"
            ],
            "application/javascript": [
              "\n",
              "    async function download(id, filename, size) {\n",
              "      if (!google.colab.kernel.accessAllowed) {\n",
              "        return;\n",
              "      }\n",
              "      const div = document.createElement('div');\n",
              "      const label = document.createElement('label');\n",
              "      label.textContent = `Downloading \"${filename}\": `;\n",
              "      div.appendChild(label);\n",
              "      const progress = document.createElement('progress');\n",
              "      progress.max = size;\n",
              "      div.appendChild(progress);\n",
              "      document.body.appendChild(div);\n",
              "\n",
              "      const buffers = [];\n",
              "      let downloaded = 0;\n",
              "\n",
              "      const channel = await google.colab.kernel.comms.open(id);\n",
              "      // Send a message to notify the kernel that we're ready.\n",
              "      channel.send({})\n",
              "\n",
              "      for await (const message of channel.messages) {\n",
              "        // Send a message to notify the kernel that we're ready.\n",
              "        channel.send({})\n",
              "        if (message.buffers) {\n",
              "          for (const buffer of message.buffers) {\n",
              "            buffers.push(buffer);\n",
              "            downloaded += buffer.byteLength;\n",
              "            progress.value = downloaded;\n",
              "          }\n",
              "        }\n",
              "      }\n",
              "      const blob = new Blob(buffers, {type: 'application/binary'});\n",
              "      const a = document.createElement('a');\n",
              "      a.href = window.URL.createObjectURL(blob);\n",
              "      a.download = filename;\n",
              "      div.appendChild(a);\n",
              "      a.click();\n",
              "      div.remove();\n",
              "    }\n",
              "  "
            ]
          },
          "metadata": {}
        },
        {
          "output_type": "display_data",
          "data": {
            "text/plain": [
              "<IPython.core.display.Javascript object>"
            ],
            "application/javascript": [
              "download(\"download_80363c85-2cc9-4c8e-99ed-a1f85a4c6697\", \"\\u58f2\\u4e0a\\u96c6\\u8a08\\u8868.xlsx\", 5386)"
            ]
          },
          "metadata": {}
        }
      ]
    }
  ]
}