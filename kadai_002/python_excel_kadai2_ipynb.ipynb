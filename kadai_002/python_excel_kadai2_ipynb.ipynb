{
  "nbformat": 4,
  "nbformat_minor": 0,
  "metadata": {
    "colab": {
      "provenance": []
    },
    "kernelspec": {
      "name": "python3",
      "display_name": "Python 3"
    },
    "language_info": {
      "name": "python"
    }
  },
  "cells": [
    {
      "cell_type": "code",
      "source": [
        "%pip install -q pandas openpyxl\n",
        "\n",
        "import pandas as pd\n",
        "\n",
        "def make_performance_excel(path=\"業績.xlsx\"):\n",
        "    # 1) 元データ\n",
        "    data = [\n",
        "        {\"日付\": \"2023-05-17\", \"社員名\": \"山田\", \"売上\": 100, \"部門\": \"メーカー\"},\n",
        "        {\"日付\": \"2023-05-18\", \"社員名\": \"佐藤\", \"売上\": 200, \"部門\": \"代理店\"},\n",
        "        {\"日付\": \"2023-05-19\", \"社員名\": \"鈴木\", \"売上\": 150, \"部門\": \"メーカー\"},\n",
        "        {\"日付\": \"2023-05-20\", \"社員名\": \"田中\", \"売上\": 300, \"部門\": \"商社\"},\n",
        "        {\"日付\": \"2023-05-21\", \"社員名\": \"高橋\", \"売上\": 250, \"部門\": \"代理店\"},\n",
        "    ]\n",
        "    df = pd.DataFrame(data)\n",
        "\n",
        "    # 2) 全体平均（四捨五入して整数）\n",
        "    avg_sales = int(round(df[\"売上\"].mean()))\n",
        "    df[\"平均売上\"] = avg_sales\n",
        "\n",
        "    # 3) 業績ランク（平均+50以上:A、平均以上:B、未満:C）\n",
        "    def rank(sales, avg):\n",
        "        if sales >= avg + 50:\n",
        "            return \"A\"\n",
        "        elif sales >= avg:\n",
        "            return \"B\"\n",
        "        else:\n",
        "            return \"C\"\n",
        "\n",
        "    df[\"業績ランク\"] = df[\"売上\"].apply(lambda x: rank(x, avg_sales))\n",
        "\n",
        "    # 4) 列順を整えて Excel 出力\n",
        "    df = df[[\"日付\", \"社員名\", \"売上\", \"部門\", \"平均売上\", \"業績ランク\"]]\n",
        "    df.to_excel(path, index=False)  # openpyxl が自動で使われます\n",
        "    return path\n",
        "\n",
        "if __name__ == \"__main__\":\n",
        "    out = make_performance_excel(\"業績.xlsx\")"
      ],
      "metadata": {
        "id": "u1A9RPdmJGGd"
      },
      "execution_count": 35,
      "outputs": []
    }
  ]
}